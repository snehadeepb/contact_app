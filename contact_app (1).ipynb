{
  "cells": [
    {
      "cell_type": "markdown",
      "metadata": {
        "id": "8lXD4VVdPIhC"
      },
      "source": [
        "# Contact app\n",
        "\n",
        "You have learnt a lot of new things; data structures, string, regex & files. Lets use all our newly acquired knowledge to build a **contact app**, just like the ones in our smartphone.\n",
        "\n",
        "We will not be building a fancy UI, instead we will focus on understanding the programming logic.\n",
        "\n",
        "Lets get started!\n",
        "\n",
        "Think of all the features that your contact app has . . . !\n",
        "- It can show you all the contact names\n",
        "- You can search for contacts (using name)\n",
        "- You can see all the information associated with the contact\n",
        "- You can delete and update contacts\n",
        "\n",
        "Can you think of anything more ? Our contact app should have at least these features. \n",
        "- The app should show us all the contact names\n",
        "- It should allow us to select a contact and view all the information associated with the contact\n",
        "- It should allow us to update contact info & delete contact\n",
        "- Finally, it should show us all the contact names\n",
        "\n",
        "For every contact, we will store the `name`, `number` & `email`. "
      ]
    },
    {
      "cell_type": "markdown",
      "metadata": {
        "id": "Bg2evjYXPIhL"
      },
      "source": [
        "### Data Structure\n",
        "The very first thing that we need to decide is \"What data structure to use?\"\n",
        "\n",
        "To store all the contacts, we can use a list of dictionaries; were each dictionary stores the `name`, `number` & `email`  of the contact. \n",
        "\n",
        "Create a list of dictionaries called `contacts` with 3 dummy contacts.  "
      ]
    },
    {
      "cell_type": "code",
      "execution_count": null,
      "metadata": {
        "id": "4QxCvRmOPIhM"
      },
      "outputs": [],
      "source": [
        "## your code here\n",
        "contacts=[{'name':'deep','number':1234567891,'email':'deep@gmail.com'},{'name':'nagesh','number':9503237449,'email':'nagesh.nk@gmail.com'},{'name':'ajit','number':9766581412,'email':'ajit.at@gmail.com'}]"
      ]
    },
    {
      "cell_type": "markdown",
      "metadata": {
        "id": "2HCDplPdPIhO"
      },
      "source": [
        "### List all contact names\n",
        "Write `show_contacts` function that takes the `contacts` list and prints all the contact names. These names will help us to select the contact later."
      ]
    },
    {
      "cell_type": "code",
      "execution_count": null,
      "metadata": {
        "id": "9pUQci2PPIhP"
      },
      "outputs": [],
      "source": [
        "def show_contacts(contacts):\n",
        "  for i in contacts:\n",
        "   for i2,i3 in i.items():\n",
        "    if i2=='name':\n",
        "     print(i3)\n"
      ]
    },
    {
      "cell_type": "code",
      "execution_count": null,
      "metadata": {
        "colab": {
          "base_uri": "https://localhost:8080/"
        },
        "id": "O6tHRAdxPIhQ",
        "outputId": "81cebc41-4b6f-416b-fc01-3d29b8185c49"
      },
      "outputs": [
        {
          "output_type": "stream",
          "name": "stdout",
          "text": [
            "deep\n",
            "nagesh\n",
            "ajit\n"
          ]
        }
      ],
      "source": [
        "show_contacts(contacts)"
      ]
    },
    {
      "cell_type": "markdown",
      "metadata": {
        "id": "kLcMFmWEPIhR"
      },
      "source": [
        "### Add a new Contact\n",
        "\n",
        "Write `add_contact` function that takes user input and *adds new contact* dictionary to the existing list of `contacts`."
      ]
    },
    {
      "cell_type": "code",
      "execution_count": null,
      "metadata": {
        "id": "Q4s3UbXOPIhT"
      },
      "outputs": [],
      "source": [
        "def add_contact(contacts):\n",
        "    new={'name ':input('name'),'number ':input( 'no'),'email':input('email')}\n",
        "    contacts.append(new)"
      ]
    },
    {
      "cell_type": "code",
      "execution_count": null,
      "metadata": {
        "id": "Or1Fd7hWPIhU"
      },
      "outputs": [],
      "source": [
        "add_contact(contacts)"
      ]
    },
    {
      "cell_type": "markdown",
      "metadata": {
        "id": "XKQnyQZZPIhV"
      },
      "source": [
        "### Delete Contact\n",
        "\n",
        "Write `delete_contact` function to delete an existing contact by providing `name` of the contact which we want to delete."
      ]
    },
    {
      "cell_type": "code",
      "execution_count": null,
      "metadata": {
        "id": "_DjJ7V4iPIhW"
      },
      "outputs": [],
      "source": [
        "def delete_contact(name):\n",
        "  b=input('name of del')\n",
        "  for i in contacts:\n",
        "   if i['name']==b:\n",
        "    contacts.remove(i)\n",
        "  print(contacts)     \n"
      ]
    },
    {
      "cell_type": "code",
      "execution_count": null,
      "metadata": {
        "id": "P6F2_R1BPIhX"
      },
      "outputs": [],
      "source": [
        "delete_contact(name)"
      ]
    },
    {
      "cell_type": "markdown",
      "metadata": {
        "id": "5S37rzEdPIhX"
      },
      "source": [
        "### Update Contact details\n",
        "\n",
        "Let's write `update_contact` function which will *update contact details* such as `name`, `email` & `number`. \n",
        "The functions should take `contacts` and `name` as arguments. It should also print the newly added contact."
      ]
    },
    {
      "cell_type": "code",
      "execution_count": null,
      "metadata": {
        "id": "1jn_jd2xPIhY"
      },
      "outputs": [],
      "source": [
        "def update_contact(name):\n",
        "  add={'name ':input('name'),'number ':input( 'no'),'email':input('email')}\n",
        "  contacts.append(add)\n",
        "  "
      ]
    },
    {
      "cell_type": "code",
      "execution_count": null,
      "metadata": {
        "id": "POFBaDlVPIhZ"
      },
      "outputs": [],
      "source": []
    },
    {
      "cell_type": "markdown",
      "metadata": {
        "id": "BbkhmRTEPIhZ"
      },
      "source": [
        "### Open Contact \n",
        "`open_contact` function takes the `contacts` list and a `name` string as input. It prints the contact details if `name` matches some contact name in the `contacts` list, else prints `No match found!`.\n",
        "\n",
        "**Note:** The functions should be case insensitive. "
      ]
    },
    {
      "cell_type": "code",
      "execution_count": null,
      "metadata": {
        "id": "f6UPuQXAPIha"
      },
      "outputs": [],
      "source": [
        "def open_contact(contacts, name):\n",
        "    #def open_contact(contacts, search_name):\n",
        "  a=True\n",
        "  for i in contacts:\n",
        "    if i['name']==name:\n",
        "      print(i)\n",
        "      a=False\n",
        "      #break\n",
        "  if a :\n",
        "      print('No match found!')"
      ]
    },
    {
      "cell_type": "code",
      "execution_count": null,
      "metadata": {
        "id": "eJwmmsWAPIhb"
      },
      "outputs": [],
      "source": [
        "open_contact(contacts, name)"
      ]
    },
    {
      "cell_type": "markdown",
      "metadata": {
        "id": "QucQBsK-PIhb"
      },
      "source": [
        "We often see *update* & *delete* options after we open a particular contact. It would be great if we can also implement the same. \n",
        "\n",
        "After opening the contact, the program should wait for user input. The user can press `u` to update & `d` delete contact. Any other key press should be ignored\n",
        "\n",
        "Write the updated `open_contact` function below"
      ]
    },
    {
      "cell_type": "code",
      "execution_count": null,
      "metadata": {
        "id": "pwOdManePIhc"
      },
      "outputs": [],
      "source": [
        "def open_contact(contacts, name):\n",
        "  inp=input('press u update and d delete !!')\n",
        "  if inp=='u':\n",
        "    update_contact(name)\n",
        "  elif inp=='d':\n",
        "    delete_contact(name)\n"
      ]
    },
    {
      "cell_type": "code",
      "execution_count": null,
      "metadata": {
        "id": "2U8zNkD1PIhc"
      },
      "outputs": [],
      "source": [
        "open_contact(contacts, name)"
      ]
    },
    {
      "cell_type": "markdown",
      "metadata": {
        "id": "JgbftyBmPIhd"
      },
      "source": [
        "### Complete application (using all the above functions in use)\n",
        "\n",
        "We will use an infinite loop to encapsulate our application logic and break only when `q` is pressed. We will use `clear_output()` function from `IPython.display` to clear the output before printing anything new.\n",
        "\n",
        "Below is the pseudo-code to help you build the application logic."
      ]
    },
    {
      "cell_type": "code",
      "execution_count": null,
      "metadata": {
        "id": "rPwrOVtTPIhd",
        "colab": {
          "base_uri": "https://localhost:8080/"
        },
        "outputId": "60b3ba1c-b266-4756-cc0f-6ba912a98937"
      },
      "outputs": [
        {
          "name": "stdout",
          "output_type": "stream",
          "text": [
            "Press 'a' - add contact, 'o' - open contact, 's' - search contact, 'q' - quita\n",
            "namerajesh\n",
            "no9850622899\n",
            "emailrajesh@gmail.com\n",
            "Press 'a' - add contact, 'o' - open contact, 's' - search contact, 'q' - quito\n",
            "Enter name of the contact you want to open. nagesh\n",
            "[{'name': 'deep', 'number': 1234567891, 'email': 'deep@gmail.com'}, {'name': 'nagesh', 'number': 9503237449, 'email': 'nagesh.nk@gmail.com'}, {'name': 'ajit', 'number': 9766581412, 'email': 'ajit.at@gmail.com'}, {'name ': 'rajesh', 'number ': '9850622899', 'email': 'rajesh@gmail.com'}]\n",
            "Press 'a' - add contact, 'o' - open contact, 's' - search contact, 'q' - quitq\n"
          ]
        }
      ],
      "source": [
        "from IPython.display import clear_output\n",
        "\n",
        "while True:\n",
        "    \n",
        "    ## show all contacts\n",
        "    \n",
        "    action = input(\"Press 'a' - add contact, 'o' - open contact, 's' - search contact, 'q' - quit\")\n",
        "    if action == 'a':\n",
        "      add_contact(contacts)\n",
        "        ## add contact\n",
        "\n",
        "    elif action == 'o':\n",
        "        name = input(\"Enter name of the contact you want to open. \")\n",
        "        print(contacts)        \n",
        "        ## open contact\n",
        "\n",
        "    elif action == 'q':\n",
        "       break\n",
        "    \n",
        "    else:\n",
        "         print ('incorrect choice')"
      ]
    },
    {
      "cell_type": "code",
      "source": [
        "'{}' , '[{}]'"
      ],
      "metadata": {
        "id": "sAltPMtZszQU"
      },
      "execution_count": null,
      "outputs": []
    },
    {
      "cell_type": "code",
      "source": [
        "\n",
        "f=open('/content/sample_data/contacts.txt','r+')\n",
        "\n",
        "for i in contacts:\n",
        "  con= list(i.values()) # when use to \n",
        "  # print(con[0],con[1],con[2])\n",
        "  f.write(f'{con[0]},{con[1]},{con[2]}\\n')\n",
        "f.close()\n",
        "  #all=(list(i.keys())[0],list(i.values())[0]+',',list(i.keys())[1],list(i.values())[1],list(i.keys())[2],list(i.values())[2])"
      ],
      "metadata": {
        "id": "LNVgUeggnKCu",
        "colab": {
          "base_uri": "https://localhost:8080/"
        },
        "outputId": "5efcb46a-344e-4e65-ac22-1e1ab26b5cd6"
      },
      "execution_count": null,
      "outputs": [
        {
          "output_type": "stream",
          "name": "stdout",
          "text": [
            "deep 1234567891 deep@gmail.com\n",
            "nagesh 9503237449 nagesh.nk@gmail.com\n",
            "ajit 9766581412 ajit.at@gmail.com\n",
            "rajesh 9850622899 rajesh@gmail.com\n"
          ]
        }
      ]
    },
    {
      "cell_type": "markdown",
      "metadata": {
        "id": "ElHHl3FYPIhf"
      },
      "source": [
        "\n",
        "## Using files\n",
        "\n",
        "One major problem with the above approach is \"persistent storage\". Every time you close this notebook, all the new contacts are lost. This happens because `contacts` is a python variable. Its lives inside python session. As soon as the session is killed/terminated, all the varibles are also deleted.\n",
        "\n",
        "To address this problem, we will have to use save the contacts in a disk. What better reason to use files? Instead of using *list of dictionary*, use file to save the contacts. \n",
        "\n",
        "Save every new contact in a new-line and use \" , \" to separate the contact fields. This is how the above contacts should look, when saved in a file.\n",
        "\n",
        "```text\n",
        "vivek, vivek@gmail.com, 9921668254\n",
        "ankur, ankur@gmail.com, 8806807004\n",
        "pranav, pranav@gmail.com, 987654321\n",
        "```\n",
        "\n",
        "You task is to make appropriate changes to the above code to use `contacts.txt` instead of using `contacts` list."
      ]
    },
    {
      "cell_type": "markdown",
      "metadata": {
        "id": "VDN1wmM1PIhg"
      },
      "source": [
        "## Using Regex\n",
        "\n",
        "Yet another problem with our app is \"lack of validation\". While creating a new contact, user is free to enter anything. But why is that a problem? \n",
        "\n",
        "**Input validation** is important to ensure only properly formed data is entering the workflow in an information system, preventing malformed data from persisting in the database and triggering malfunction of various downstream components. Input validation should happen as early as possible in the data flow, preferably as soon as the data is received. [source](https://cheatsheetseries.owasp.org/cheatsheets/Input_Validation_Cheat_Sheet.html)\n",
        "\n",
        "The above paragraph is the complete gist of Input validation. Read it again & ponder for a minute. Its an important concept when building customer facing applications. We would highly recommend you to Google and read more about it.  \n",
        "\n",
        "Use regular expression to validate user input (before you save it to the file). Implement the following:\n",
        "- `Name` should be all alphabets. \" \" should also be allowed.\n",
        "- For `email` refer regex chapter from course material.\n",
        "- `Number` should have 10 digits. Not less, not more. Also, not alphabets should be allowed.\n",
        "- Add a new field `DOB` to each contact. It should follow YYYY-MM-DD format. Then write a regular expression to validate it. Remember, date & month cannot be greater that 31 & 12, respectively. \n",
        "\n",
        "Can you think of any more validations?"
      ]
    },
    {
      "cell_type": "markdown",
      "metadata": {
        "id": "KBJ9MknvPIhh"
      },
      "source": [
        "We really hope you had a wonderful time building this applications. This is how applications are developed in really life. You start with a set of basic functionalities and then you keep adding new features (like persistent storage & validation). As the application grows in size, you might encounter new problems to solve."
      ]
    },
    {
      "cell_type": "code",
      "source": [
        "a=10\n",
        "print(f'value of a is {a}')"
      ],
      "metadata": {
        "id": "mEPdsZqf4rzd"
      },
      "execution_count": null,
      "outputs": []
    }
  ],
  "metadata": {
    "kernelspec": {
      "display_name": "Python 3",
      "language": "python",
      "name": "python3"
    },
    "language_info": {
      "codemirror_mode": {
        "name": "ipython",
        "version": 3
      },
      "file_extension": ".py",
      "mimetype": "text/x-python",
      "name": "python",
      "nbconvert_exporter": "python",
      "pygments_lexer": "ipython3",
      "version": "3.7.4"
    },
    "toc": {
      "base_numbering": 1,
      "nav_menu": {},
      "number_sections": true,
      "sideBar": true,
      "skip_h1_title": false,
      "title_cell": "Table of Contents",
      "title_sidebar": "Contents",
      "toc_cell": false,
      "toc_position": {},
      "toc_section_display": true,
      "toc_window_display": false
    },
    "colab": {
      "provenance": []
    }
  },
  "nbformat": 4,
  "nbformat_minor": 0
}